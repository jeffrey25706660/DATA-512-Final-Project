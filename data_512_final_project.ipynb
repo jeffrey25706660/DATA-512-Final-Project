{
 "cells": [
  {
   "cell_type": "code",
   "execution_count": 1,
   "metadata": {},
   "outputs": [],
   "source": [
    "import pandas as pd\n",
    "import requests\n",
    "import json\n",
    "from sodapy import Socrata\n",
    "import matplotlib.pyplot as plt\n",
    "import seaborn as sns\n",
    "from scipy import stats\n",
    "import numpy as np\n",
    "from statsmodels.formula.api import ols\n",
    "from patsy import dmatrices\n",
    "import statsmodels.api as sm "
   ]
  },
  {
   "cell_type": "markdown",
   "metadata": {},
   "source": [
    "# Data 512 Final Project: \n",
    "# Discrimination In the United States: Experiences of Asian Ethnic Group in the City of Austin\n",
    "### Author: Jeffrey Lai"
   ]
  },
  {
   "cell_type": "markdown",
   "metadata": {},
   "source": [
    "# I. Motivation"
   ]
  },
  {
   "cell_type": "markdown",
   "metadata": {},
   "source": [
    "Asian American is the fastest-growing racial group in the United States according to the research by Pew Research Center. The City of Austin in Texas is no exception. According to the data released by the government of Austin, the number of Asians in Austin is doubling every 10 years compared with the general population which doubles every 20 to 25 years. Yet, the majority of the group is still immigrants. Once here, Asian immigrant families face many obstacles, such as language barriers, culture shock, and ongoing adjustments to new lives. One of the most prevalent issues that most immigrants face is racism and discrimination. Many studies have found that racism has been linked with increased risk of health and lower satisfaction of life. The survey conducted by the City of Austin collects data from 230 different questions from the Asian immigration group to help us better understand their life experience and the basis of a personal characteristic that causes the immigration group treated unfairly in the United States."
   ]
  },
  {
   "cell_type": "markdown",
   "metadata": {},
   "source": [
    "# II. Selected Data for analysis"
   ]
  },
  {
   "cell_type": "markdown",
   "metadata": {},
   "source": [
    "The data contains more than 2000 rows and 230 attributes collecting from the surveys the city government sent out in 2020. The questions accurately measure the respondents' opinions, behaviors, and experiences. The demographic data regarding age, gender, and marital status are also retrieved. Few ethical considerations will also be addressed in our research.\n",
    "\n",
    "The dataset can be collected through API here: https://data.austintexas.gov/City-Government/Final-Report-of-the-Asian-American-Quality-of-Life/hc5t-p62z\n",
    "\n",
    "For API documentation, please visit here: https://dev.socrata.com/foundry/data.austintexas.gov/hc5t-p62z\n",
    "\n",
    "Terms of Service:\n",
    "https://austintexas.gov/page/city-austin-open-data-terms-use"
   ]
  },
  {
   "cell_type": "markdown",
   "metadata": {},
   "source": [
    "# III. Research questions"
   ]
  },
  {
   "cell_type": "markdown",
   "metadata": {},
   "source": [
    "#### 1. How does discriminatory experience across age have an effect on the quality of life in the City of Austin?"
   ]
  },
  {
   "cell_type": "markdown",
   "metadata": {},
   "source": [
    "#### 2. Does limited English proficiency lead to racial discrimination?"
   ]
  },
  {
   "cell_type": "markdown",
   "metadata": {},
   "source": [
    "#### 3. Does the income class correlate with discriminatory experience in the City of Austin?"
   ]
  },
  {
   "cell_type": "markdown",
   "metadata": {},
   "source": [
    "# IV. Related Work"
   ]
  },
  {
   "cell_type": "markdown",
   "metadata": {},
   "source": [
    "One of the most prevalent issues that most immigrants face today is racism and discrimination. In the study by Yoo, Gee, and Takeuchi investigating discrimination within an Asian American community, 21% of the respondents reported being racially discriminated against because of their race, language, and accent. The other study researched by the same group of researchers indicates that racial discrimination has been recognized as the key determinant of mental disorders and depressive symptoms. The project will examine several personal characteristics, including income level, marital status, and age to identify different factors behind the discrimination in the Asian immigration group in the City of Austin, Texas. The outcome of the analysis will help the city improve race relations and ensure equal treatment to its people."
   ]
  },
  {
   "cell_type": "markdown",
   "metadata": {},
   "source": [
    "# V. Methodology"
   ]
  },
  {
   "cell_type": "markdown",
   "metadata": {},
   "source": [
    "The methodology for this project focuses on the mix of descriptive and regression analysis to understand the basis of a personal characteristic that causes racial discrimination among Asian immigrant families.\n",
    "The survey data is a two-dimensional data structure with organized rows and columns that is well-suited for both methods. Each entry of which represents a participant's answer to the survey questions, making it efficient to manipulate and perform analysis at different levels. We will begin with a descriptive analysis to identify outliers and detect typos in the survey data. Then, we will use the same method to summarize the characteristics of the data in a meaningful way. For example, we will calculate the average number of discrimination per person across different age groups as well as including the average quality of life in the analysis. We will also refine our calculation to compute the percentage of racial discrimination experienced across gender and marital status. Lastly, we will introduce the linear regression model to the project. Linear regression is a powerful way of discovering the relationship between one or more predictor variables and the response. The method provides important evaluation metrics such as regression coefficients and p-values. We will be interpreting the outputs carefully to understand what factors are significant predictors of the outcome variable. (i.e., the quality of life and the percentage of racial discrimination among the Asian immigration group)"
   ]
  },
  {
   "cell_type": "markdown",
   "metadata": {},
   "source": [
    "# VI. Analysis"
   ]
  },
  {
   "cell_type": "markdown",
   "metadata": {},
   "source": [
    "### There are 2 ways to retrieve data of the Asian American Quality of Life (AAQoL) provided by the City of Austin"
   ]
  },
  {
   "cell_type": "markdown",
   "metadata": {},
   "source": [
    "#### 1. Communicate with API through HTTPS"
   ]
  },
  {
   "cell_type": "code",
   "execution_count": 2,
   "metadata": {},
   "outputs": [
    {
     "name": "stderr",
     "output_type": "stream",
     "text": [
      "WARNING:root:Requests made without an app_token will be subject to strict throttling limits.\n"
     ]
    }
   ],
   "source": [
    "client = Socrata(\"data.austintexas.gov\", None)\n",
    "\n",
    "results = client.get(\"hc5t-p62z\", limit=3000)\n",
    "\n",
    "# Convert to pandas DataFrame\n",
    "df_api = pd.DataFrame.from_records(results)"
   ]
  },
  {
   "cell_type": "markdown",
   "metadata": {},
   "source": [
    "#### 2. (Recommended) Directly read files from the Github"
   ]
  },
  {
   "cell_type": "code",
   "execution_count": 3,
   "metadata": {},
   "outputs": [],
   "source": [
    "url = 'https://raw.githubusercontent.com/jeffrey25706660/data-512-final/main/Final_Report_of_the_Asian_American_Quality_of_Life__AAQoL_.csv'\n",
    "df = pd.read_csv(url, error_bad_lines=False)"
   ]
  },
  {
   "cell_type": "markdown",
   "metadata": {},
   "source": [
    "### Clean the data"
   ]
  },
  {
   "cell_type": "markdown",
   "metadata": {},
   "source": [
    "#### Select columns required for analysis, 'Age','Gender', 'Ethnicity', 'Marital Status','Education Completed', 'Household Size', 'English Speaking', 'Income', 'Quality of Life' and drop rows with  null values."
   ]
  },
  {
   "cell_type": "code",
   "execution_count": 4,
   "metadata": {},
   "outputs": [],
   "source": [
    "result_df =  df[['Age','Gender', 'Ethnicity', 'Marital Status',\n",
    "       'Education Completed', 'Household Size', 'English Speaking', \n",
    "    'Income', 'Quality of Life','Discrimination ' \n",
    "   ]].dropna(axis=0,how='all')"
   ]
  },
  {
   "cell_type": "markdown",
   "metadata": {},
   "source": [
    "#### Check null values for each column. We see that there is some missing information in each attribute, which contributes between .03% to 12%."
   ]
  },
  {
   "cell_type": "code",
   "execution_count": 5,
   "metadata": {},
   "outputs": [
    {
     "data": {
      "text/plain": [
       "Age                    0.002685\n",
       "Gender                 0.009590\n",
       "Ethnicity              0.000000\n",
       "Marital Status         0.006137\n",
       "Education Completed    0.013425\n",
       "Household Size         0.005754\n",
       "English Speaking       0.006137\n",
       "Income                 0.077100\n",
       "Quality of Life        0.016110\n",
       "Discrimination         0.120829\n",
       "dtype: float64"
      ]
     },
     "execution_count": 5,
     "metadata": {},
     "output_type": "execute_result"
    }
   ],
   "source": [
    "result_df.isna().sum()/result_df.shape[0]"
   ]
  },
  {
   "cell_type": "markdown",
   "metadata": {},
   "source": [
    "## Research Question 1:  \n",
    "### How does discriminatory experience across age have an effect on the quality of life in the City of Austin?\n",
    "\n",
    "#### Let's begin by calculating the summary statistics on age. The survey data indicates that the age ranges from 18 - 98, showing there is no unusual data in the age column."
   ]
  },
  {
   "cell_type": "code",
   "execution_count": 6,
   "metadata": {},
   "outputs": [
    {
     "data": {
      "text/plain": [
       "count    2600.000000\n",
       "mean       42.851923\n",
       "std        17.105246\n",
       "min        18.000000\n",
       "25%        29.000000\n",
       "50%        40.000000\n",
       "75%        55.000000\n",
       "max        98.000000\n",
       "Name: Age, dtype: float64"
      ]
     },
     "execution_count": 6,
     "metadata": {},
     "output_type": "execute_result"
    }
   ],
   "source": [
    "result_df['Age'].describe()"
   ]
  },
  {
   "cell_type": "markdown",
   "metadata": {},
   "source": [
    "#### Calculate average the discrimination and quality of life against age and visualize the result"
   ]
  },
  {
   "cell_type": "code",
   "execution_count": 7,
   "metadata": {},
   "outputs": [],
   "source": [
    "result_discrim = result_df.groupby(['Age']).agg({'Discrimination ': 'mean','Quality of Life': 'mean'}).reset_index()"
   ]
  },
  {
   "cell_type": "code",
   "execution_count": 8,
   "metadata": {},
   "outputs": [
    {
     "data": {
      "image/png": "[encoded data removed]",
      "text/plain": [
       "<Figure size 576x360 with 2 Axes>"
      ]
     },
     "metadata": {
      "needs_background": "light"
     },
     "output_type": "display_data"
    }
   ],
   "source": [
    "\n",
    "# create figure and axis objects with subplots()\n",
    "fig,ax = plt.subplots(figsize=(8,5))\n",
    "# make a plot\n",
    "ax.plot(result_discrim[\"Age\"],result_discrim[\"Discrimination \"], color=\"pink\")\n",
    "# set x-axis label\n",
    "ax.set_xlabel(\"Age\",fontsize=14)\n",
    "# set y-axis label\n",
    "ax.set_ylabel(\"% of Discrimination\",fontsize=14)\n",
    "plt.legend()\n",
    "ax2=ax.twinx()\n",
    "# make a plot with different y-axis using second axis object\n",
    "ax2.plot(result_discrim[\"Age\"],result_discrim[\"Quality of Life\"])\n",
    "ax2.set_ylabel(\"Quality of Life\",fontsize=14)\n",
    "plt.legend()\n",
    "plt.show()"
   ]
  },
  {
   "cell_type": "markdown",
   "metadata": {},
   "source": [
    "#### Let's categorize age into different groups to observe if there is any pattern across age groups. The bin size of each age group is 10."
   ]
  },
  {
   "cell_type": "code",
   "execution_count": 9,
   "metadata": {},
   "outputs": [],
   "source": [
    "bins= [18,28,38,48,58,68,78,88,98]\n",
    "labels = ['18-28','29-38','39-48','49-58','59-68','69-78','79-88','89-98']\n",
    "result_df['age goup(10)'] = pd.cut(result_df['Age'], bins=bins, labels=labels, right=True)"
   ]
  },
  {
   "cell_type": "code",
   "execution_count": 10,
   "metadata": {},
   "outputs": [],
   "source": [
    "result_discrim_gp = result_df.groupby(['age goup(10)']).agg({'Discrimination ': 'mean','Quality of Life': 'mean'}).reset_index()"
   ]
  },
  {
   "cell_type": "code",
   "execution_count": 11,
   "metadata": {},
   "outputs": [
    {
     "data": {
      "image/png": "[encoded data removed]",
      "text/plain": [
       "<Figure size 432x288 with 2 Axes>"
      ]
     },
     "metadata": {
      "needs_background": "light"
     },
     "output_type": "display_data"
    },
    {
     "data": {
      "text/plain": [
       "<Figure size 432x288 with 0 Axes>"
      ]
     },
     "metadata": {},
     "output_type": "display_data"
    }
   ],
   "source": [
    "fig,ax = plt.subplots()\n",
    "# make a plot\n",
    "ax.plot(result_discrim_gp.index,result_discrim_gp[\"Discrimination \"], color=\"pink\")\n",
    "# set x-axis label\n",
    "ax.set_xlabel(\"age goup(10)\",fontsize=14)\n",
    "# set y-axis label\n",
    "ax.set_ylabel(\"% of Discrimination\",fontsize=14)\n",
    "plt.legend()\n",
    "positions = (0, 1, 2, 3, 4, 5, 6, 7)\n",
    "\n",
    "plt.xticks(positions, labels)\n",
    "\n",
    "ax2=ax.twinx()\n",
    "# make a plot with different y-axis using second axis object\n",
    "ax2.plot(result_discrim_gp.index,result_discrim_gp[\"Quality of Life\"])\n",
    "ax2.set_ylabel(\"Quality of Life\",fontsize=14)\n",
    "#plt.legend()\n",
    "plt.show()\n",
    "plt.savefig('age_group_vs_discrimination.png')"
   ]
  },
  {
   "cell_type": "markdown",
   "metadata": {},
   "source": [
    "#### We can further understand the relationship between discrimination and quality of life. By simply plotting the scatter plot, the relationship between 2 variables seems to be weak. We will perform a linear regression to validate our assumption"
   ]
  },
  {
   "cell_type": "code",
   "execution_count": 12,
   "metadata": {},
   "outputs": [
    {
     "data": {
      "image/png": "[encoded data removed]",
      "text/plain": [
       "<Figure size 432x288 with 1 Axes>"
      ]
     },
     "metadata": {
      "needs_background": "light"
     },
     "output_type": "display_data"
    }
   ],
   "source": [
    "sns.regplot(x='Discrimination ',y='Quality of Life',data=result_discrim, scatter_kws={\"color\": \"black\"}, line_kws={\"color\": \"red\"})\n",
    "plt.savefig(\"regression analysis\")"
   ]
  },
  {
   "cell_type": "markdown",
   "metadata": {},
   "source": [
    "### Model Interpretation: \n",
    "The two-sided p-value for a hypothesis test whose null hypothesis states the slope is .1856. The result shows that it fails to reject the null hypothesis, showing that there is no relationship between discriminatory experience and the response variable, quality of life in the City of Texas."
   ]
  },
  {
   "cell_type": "code",
   "execution_count": 13,
   "metadata": {},
   "outputs": [],
   "source": [
    "slope, intercept, r_value, p_value, std_err = stats.linregress(result_discrim['Discrimination '],result_discrim['Quality of Life'])"
   ]
  },
  {
   "cell_type": "code",
   "execution_count": 14,
   "metadata": {},
   "outputs": [
    {
     "name": "stdout",
     "output_type": "stream",
     "text": [
      "Standard error: 0.6647812852313506\n"
     ]
    }
   ],
   "source": [
    "print('Standard error:', std_err)"
   ]
  },
  {
   "cell_type": "code",
   "execution_count": 15,
   "metadata": {},
   "outputs": [
    {
     "name": "stdout",
     "output_type": "stream",
     "text": [
      "P-value: 0.1856273301670736\n"
     ]
    }
   ],
   "source": [
    "print('P-value:', p_value)"
   ]
  },
  {
   "cell_type": "code",
   "execution_count": 16,
   "metadata": {},
   "outputs": [
    {
     "name": "stdout",
     "output_type": "stream",
     "text": [
      "Slope: 0.8885331272726916\n"
     ]
    }
   ],
   "source": [
    "print('Slope:', slope)"
   ]
  },
  {
   "cell_type": "code",
   "execution_count": 17,
   "metadata": {},
   "outputs": [
    {
     "name": "stdout",
     "output_type": "stream",
     "text": [
      "R-value: 0.1566641349449716\n"
     ]
    }
   ],
   "source": [
    "print('R-value:', r_value)"
   ]
  },
  {
   "cell_type": "markdown",
   "metadata": {},
   "source": [
    "### Discussion/Implications:"
   ]
  },
  {
   "cell_type": "markdown",
   "metadata": {},
   "source": [
    "Prior to conducting the research, we assume a higher percentage of discriminatory experience will lead to a lower quality of life in the City of Austin. The result from the regression analysis indicates that there is no significant relationship between two variables across age. The descriptive analysis of visualizing discriminatory experience against the quality of life by age and age groups shows that both variables fluctuate in the same direction, meaning that even though the respondents did experience racial discrimination in the City of Austin, the concern may not have a significant impact on the quality of life. The reasons can be that the government and non-profit organizations in the state offer accessible personal and professional resources for anti-racism work on government websites. For example, the Texas Workforce Commission offers channels to file complaints to protect against employment discrimination based on color and TexasLawHelp provides free legal information and court forms for civil legal problems.\n"
   ]
  },
  {
   "cell_type": "markdown",
   "metadata": {},
   "source": [
    "### Limitations:\n",
    "\n",
    "The bias in the sampling data may raise the concern. After running multiple descriptive analyses, we observe that there exists an imbalance in one of the attributes. The images below suggest that the survey data is dominated by married participants, which comprises 67% of the data collection. This phenomenon will predetermined ideas or influences in certain direction. For example, the percentage of discriminatory experience by married respondents is much lower than an unmarried person. If we were to train a model to predict the ratio of discriminatory experience in the City of Austin, the model's outcome will be skewed toward marrieds. The researcher must ensure that collected data can reflect the demographics in society in future research."
   ]
  },
  {
   "cell_type": "code",
   "execution_count": 18,
   "metadata": {},
   "outputs": [],
   "source": [
    "result_gen_df = result_df[ result_df['Marital Status'] != 'Other'].groupby(['Marital Status']).agg({'Discrimination ': 'mean','Quality of Life': 'count'}).sort_values(by='Quality of Life', ascending=False).rename(columns={'Quality of Life': 'Records'})"
   ]
  },
  {
   "cell_type": "markdown",
   "metadata": {},
   "source": [
    "#### Percentage of respondents by marital status"
   ]
  },
  {
   "cell_type": "code",
   "execution_count": 19,
   "metadata": {},
   "outputs": [
    {
     "data": {
      "text/html": [
       "<div>\n",
       "<style scoped>\n",
       "    .dataframe tbody tr th:only-of-type {\n",
       "        vertical-align: middle;\n",
       "    }\n",
       "\n",
       "    .dataframe tbody tr th {\n",
       "        vertical-align: top;\n",
       "    }\n",
       "\n",
       "    .dataframe thead th {\n",
       "        text-align: right;\n",
       "    }\n",
       "</style>\n",
       "<table border=\"1\" class=\"dataframe\">\n",
       "  <thead>\n",
       "    <tr style=\"text-align: right;\">\n",
       "      <th></th>\n",
       "      <th>Discrimination</th>\n",
       "      <th>Records</th>\n",
       "      <th>% of Records</th>\n",
       "    </tr>\n",
       "    <tr>\n",
       "      <th>Marital Status</th>\n",
       "      <th></th>\n",
       "      <th></th>\n",
       "      <th></th>\n",
       "    </tr>\n",
       "  </thead>\n",
       "  <tbody>\n",
       "    <tr>\n",
       "      <th>Married</th>\n",
       "      <td>0.282438</td>\n",
       "      <td>1704</td>\n",
       "      <td>0.675386</td>\n",
       "    </tr>\n",
       "    <tr>\n",
       "      <th>Single</th>\n",
       "      <td>0.358044</td>\n",
       "      <td>717</td>\n",
       "      <td>0.284185</td>\n",
       "    </tr>\n",
       "    <tr>\n",
       "      <th>Living with a partner</th>\n",
       "      <td>0.287234</td>\n",
       "      <td>102</td>\n",
       "      <td>0.040428</td>\n",
       "    </tr>\n",
       "  </tbody>\n",
       "</table>\n",
       "</div>"
      ],
      "text/plain": [
       "                       Discrimination   Records  % of Records\n",
       "Marital Status                                               \n",
       "Married                       0.282438     1704      0.675386\n",
       "Single                        0.358044      717      0.284185\n",
       "Living with a partner         0.287234      102      0.040428"
      ]
     },
     "execution_count": 19,
     "metadata": {},
     "output_type": "execute_result"
    }
   ],
   "source": [
    "result_df_marital = result_df[ result_df['Marital Status'] != 'Other'].groupby(['Marital Status']).agg({'Discrimination ': 'mean','Quality of Life': 'count'}).sort_values(by='Quality of Life', ascending=False).rename(columns={'Quality of Life': 'Records'})\n",
    "\n",
    "result_df_marital['% of Records'] = result_df_marital['Records']/result_df_marital['Records'].sum()\n",
    "\n",
    "result_df_marital"
   ]
  },
  {
   "cell_type": "code",
   "execution_count": 20,
   "metadata": {},
   "outputs": [
    {
     "name": "stderr",
     "output_type": "stream",
     "text": [
      "WARNING:matplotlib.legend:No handles with labels found to put in legend.\n"
     ]
    },
    {
     "data": {
      "image/png": "[encoded data removed]",
      "text/plain": [
       "<Figure size 432x288 with 2 Axes>"
      ]
     },
     "metadata": {
      "needs_background": "light"
     },
     "output_type": "display_data"
    }
   ],
   "source": [
    "fig = plt.figure() # Create matplotlib figure\n",
    "\n",
    "ax = fig.add_subplot(111) # Create matplotlib axes\n",
    "ax2 = ax.twinx() # Create another axes that shares the same x-axis as ax.\n",
    "ax.set_ylim((0,.5))\n",
    "ax.legend()\n",
    "width = 0.2\n",
    "result_gen_df['Records'].plot(kind='bar', color='blue', ax=ax2, width=width, position=0)\n",
    "result_gen_df['Discrimination '].plot(kind='bar', color='red', ax=ax, width=width, position=1)\n",
    "\n",
    "\n",
    "ax.set_ylabel('% of Discrimination')\n",
    "ax2.set_ylabel('Frequency')\n",
    "ax2.legend()\n",
    "plt.show()"
   ]
  },
  {
   "cell_type": "code",
   "execution_count": null,
   "metadata": {},
   "outputs": [],
   "source": [
    "\n",
    "\n"
   ]
  },
  {
   "cell_type": "markdown",
   "metadata": {},
   "source": [
    "## Research Question 2\n",
    "#### Does limited English proficiency lead to racial discrimination?"
   ]
  },
  {
   "cell_type": "markdown",
   "metadata": {},
   "source": [
    "#### Let's first look at the overall discriminatory experience by English proficiency. Interesting enough, 35% of the respondents who are fluent in English report prior experience with racial discrimination."
   ]
  },
  {
   "cell_type": "code",
   "execution_count": 21,
   "metadata": {},
   "outputs": [],
   "source": [
    "ability_df = result_df[result_df['English Speaking'].notnull()].groupby(['English Speaking']).agg({'Discrimination ':'mean'}).sort_values(by=['Discrimination '],ascending=False).reset_index()"
   ]
  },
  {
   "cell_type": "code",
   "execution_count": 22,
   "metadata": {},
   "outputs": [
    {
     "data": {
      "text/html": [
       "<div>\n",
       "<style scoped>\n",
       "    .dataframe tbody tr th:only-of-type {\n",
       "        vertical-align: middle;\n",
       "    }\n",
       "\n",
       "    .dataframe tbody tr th {\n",
       "        vertical-align: top;\n",
       "    }\n",
       "\n",
       "    .dataframe thead th {\n",
       "        text-align: right;\n",
       "    }\n",
       "</style>\n",
       "<table border=\"1\" class=\"dataframe\">\n",
       "  <thead>\n",
       "    <tr style=\"text-align: right;\">\n",
       "      <th></th>\n",
       "      <th>English Speaking</th>\n",
       "      <th>Discrimination</th>\n",
       "    </tr>\n",
       "  </thead>\n",
       "  <tbody>\n",
       "    <tr>\n",
       "      <th>0</th>\n",
       "      <td>Very well</td>\n",
       "      <td>0.357309</td>\n",
       "    </tr>\n",
       "    <tr>\n",
       "      <th>1</th>\n",
       "      <td>Not well</td>\n",
       "      <td>0.296099</td>\n",
       "    </tr>\n",
       "    <tr>\n",
       "      <th>2</th>\n",
       "      <td>Well</td>\n",
       "      <td>0.277539</td>\n",
       "    </tr>\n",
       "    <tr>\n",
       "      <th>3</th>\n",
       "      <td>Not at all</td>\n",
       "      <td>0.145570</td>\n",
       "    </tr>\n",
       "  </tbody>\n",
       "</table>\n",
       "</div>"
      ],
      "text/plain": [
       "  English Speaking  Discrimination \n",
       "0        Very well         0.357309\n",
       "1         Not well         0.296099\n",
       "2             Well         0.277539\n",
       "3       Not at all         0.145570"
      ]
     },
     "execution_count": 22,
     "metadata": {},
     "output_type": "execute_result"
    }
   ],
   "source": [
    "ability_df"
   ]
  },
  {
   "cell_type": "code",
   "execution_count": 23,
   "metadata": {},
   "outputs": [
    {
     "data": {
      "image/png": "[encoded data removed]",
      "text/plain": [
       "<Figure size 432x288 with 1 Axes>"
      ]
     },
     "metadata": {
      "needs_background": "light"
     },
     "output_type": "display_data"
    }
   ],
   "source": [
    "gx = sns.barplot(x='English Speaking' ,y = 'Discrimination ',data=ability_df)\n",
    "plt.savefig(\"English_Speaking_vs_Discrimination.png\")"
   ]
  },
  {
   "cell_type": "markdown",
   "metadata": {},
   "source": [
    "#### Let's break down the graph by ethnicity. The result suggests that regardless of the participant's ethnicity, strong English speaking ability does show the highest ratio of discriminatory experience."
   ]
  },
  {
   "cell_type": "code",
   "execution_count": 24,
   "metadata": {},
   "outputs": [],
   "source": [
    "ability_eth_df = result_df[(result_df['English Speaking'].notnull()) & (result_df['Ethnicity'] != 'Other') ].groupby(['Ethnicity','English Speaking']).agg({'Discrimination ':'mean'}).sort_values(by=['Ethnicity','Discrimination '],ascending=False).reset_index()"
   ]
  },
  {
   "cell_type": "code",
   "execution_count": 25,
   "metadata": {},
   "outputs": [
    {
     "data": {
      "text/html": [
       "<div>\n",
       "<style scoped>\n",
       "    .dataframe tbody tr th:only-of-type {\n",
       "        vertical-align: middle;\n",
       "    }\n",
       "\n",
       "    .dataframe tbody tr th {\n",
       "        vertical-align: top;\n",
       "    }\n",
       "\n",
       "    .dataframe thead th {\n",
       "        text-align: right;\n",
       "    }\n",
       "</style>\n",
       "<table border=\"1\" class=\"dataframe\">\n",
       "  <thead>\n",
       "    <tr style=\"text-align: right;\">\n",
       "      <th></th>\n",
       "      <th>Ethnicity</th>\n",
       "      <th>English Speaking</th>\n",
       "      <th>Discrimination</th>\n",
       "    </tr>\n",
       "  </thead>\n",
       "  <tbody>\n",
       "    <tr>\n",
       "      <th>0</th>\n",
       "      <td>Vietnamese</td>\n",
       "      <td>Very well</td>\n",
       "      <td>0.427419</td>\n",
       "    </tr>\n",
       "    <tr>\n",
       "      <th>1</th>\n",
       "      <td>Vietnamese</td>\n",
       "      <td>Well</td>\n",
       "      <td>0.347222</td>\n",
       "    </tr>\n",
       "    <tr>\n",
       "      <th>2</th>\n",
       "      <td>Vietnamese</td>\n",
       "      <td>Not well</td>\n",
       "      <td>0.240260</td>\n",
       "    </tr>\n",
       "    <tr>\n",
       "      <th>3</th>\n",
       "      <td>Vietnamese</td>\n",
       "      <td>Not at all</td>\n",
       "      <td>0.192308</td>\n",
       "    </tr>\n",
       "    <tr>\n",
       "      <th>4</th>\n",
       "      <td>Korean</td>\n",
       "      <td>Very well</td>\n",
       "      <td>0.482353</td>\n",
       "    </tr>\n",
       "    <tr>\n",
       "      <th>5</th>\n",
       "      <td>Korean</td>\n",
       "      <td>Not well</td>\n",
       "      <td>0.346369</td>\n",
       "    </tr>\n",
       "    <tr>\n",
       "      <th>6</th>\n",
       "      <td>Korean</td>\n",
       "      <td>Well</td>\n",
       "      <td>0.335821</td>\n",
       "    </tr>\n",
       "    <tr>\n",
       "      <th>7</th>\n",
       "      <td>Korean</td>\n",
       "      <td>Not at all</td>\n",
       "      <td>0.217391</td>\n",
       "    </tr>\n",
       "    <tr>\n",
       "      <th>8</th>\n",
       "      <td>Filipino</td>\n",
       "      <td>Very well</td>\n",
       "      <td>0.355705</td>\n",
       "    </tr>\n",
       "    <tr>\n",
       "      <th>9</th>\n",
       "      <td>Filipino</td>\n",
       "      <td>Well</td>\n",
       "      <td>0.181818</td>\n",
       "    </tr>\n",
       "    <tr>\n",
       "      <th>10</th>\n",
       "      <td>Filipino</td>\n",
       "      <td>Not well</td>\n",
       "      <td>0.000000</td>\n",
       "    </tr>\n",
       "    <tr>\n",
       "      <th>11</th>\n",
       "      <td>Chinese</td>\n",
       "      <td>Very well</td>\n",
       "      <td>0.475000</td>\n",
       "    </tr>\n",
       "    <tr>\n",
       "      <th>12</th>\n",
       "      <td>Chinese</td>\n",
       "      <td>Well</td>\n",
       "      <td>0.352518</td>\n",
       "    </tr>\n",
       "    <tr>\n",
       "      <th>13</th>\n",
       "      <td>Chinese</td>\n",
       "      <td>Not well</td>\n",
       "      <td>0.329341</td>\n",
       "    </tr>\n",
       "    <tr>\n",
       "      <th>14</th>\n",
       "      <td>Chinese</td>\n",
       "      <td>Not at all</td>\n",
       "      <td>0.122449</td>\n",
       "    </tr>\n",
       "    <tr>\n",
       "      <th>15</th>\n",
       "      <td>Asian Indian</td>\n",
       "      <td>Very well</td>\n",
       "      <td>0.218310</td>\n",
       "    </tr>\n",
       "    <tr>\n",
       "      <th>16</th>\n",
       "      <td>Asian Indian</td>\n",
       "      <td>Well</td>\n",
       "      <td>0.161850</td>\n",
       "    </tr>\n",
       "    <tr>\n",
       "      <th>17</th>\n",
       "      <td>Asian Indian</td>\n",
       "      <td>Not well</td>\n",
       "      <td>0.138889</td>\n",
       "    </tr>\n",
       "    <tr>\n",
       "      <th>18</th>\n",
       "      <td>Asian Indian</td>\n",
       "      <td>Not at all</td>\n",
       "      <td>0.000000</td>\n",
       "    </tr>\n",
       "  </tbody>\n",
       "</table>\n",
       "</div>"
      ],
      "text/plain": [
       "       Ethnicity English Speaking  Discrimination \n",
       "0     Vietnamese        Very well         0.427419\n",
       "1     Vietnamese             Well         0.347222\n",
       "2     Vietnamese         Not well         0.240260\n",
       "3     Vietnamese       Not at all         0.192308\n",
       "4         Korean        Very well         0.482353\n",
       "5         Korean         Not well         0.346369\n",
       "6         Korean             Well         0.335821\n",
       "7         Korean       Not at all         0.217391\n",
       "8       Filipino        Very well         0.355705\n",
       "9       Filipino             Well         0.181818\n",
       "10      Filipino         Not well         0.000000\n",
       "11       Chinese        Very well         0.475000\n",
       "12       Chinese             Well         0.352518\n",
       "13       Chinese         Not well         0.329341\n",
       "14       Chinese       Not at all         0.122449\n",
       "15  Asian Indian        Very well         0.218310\n",
       "16  Asian Indian             Well         0.161850\n",
       "17  Asian Indian         Not well         0.138889\n",
       "18  Asian Indian       Not at all         0.000000"
      ]
     },
     "execution_count": 25,
     "metadata": {},
     "output_type": "execute_result"
    }
   ],
   "source": [
    "ability_eth_df"
   ]
  },
  {
   "cell_type": "code",
   "execution_count": 26,
   "metadata": {},
   "outputs": [
    {
     "data": {
      "image/png": "[encoded data removed]",
      "text/plain": [
       "<Figure size 576x360 with 1 Axes>"
      ]
     },
     "metadata": {
      "needs_background": "light"
     },
     "output_type": "display_data"
    }
   ],
   "source": [
    "ability_eth_df.set_index([ 'Ethnicity','English Speaking']).unstack().plot(kind='bar',figsize=(8,5))\n",
    "plt.legend(loc='upper left')\n",
    "plt.show()"
   ]
  },
  {
   "cell_type": "markdown",
   "metadata": {},
   "source": [
    "### Discussion/Implications:\n",
    "The analysis shows that fluent English speakers and limited English speakers are two groups that have a high percentage of experiencing racial inequality in the City of Austin, which indicates that regardless of English speaking ability, a person from the Asian immigration group may have been discriminated against in any way. One implication appears to be that individuals are treated differently based on their physical appearance and traits. The other implication can be of linguistic bias. Asian ethnic group comprises different origin groups and cultures. Each of the origins has a unique use of language and characteristics of speech, which is profoundly different from western culture. Because of the existing discrepancy, it will implicitly lead to unfair treatment of immigrant Asian Americans due to their first language, accent, and size of the vocabulary.\n"
   ]
  },
  {
   "cell_type": "markdown",
   "metadata": {},
   "source": [
    "### Limitations:\n",
    "The data is sourced from several countries of origin, comprising of Chinese, Asian Indian, Vietnamese, Korean, and Filipino ethnic groups. However, the collected survey data does not reflect the demographic trends provided by the Commission on Immigrant Affairs of Austin. According to the data, the Chinese stand about 12% and the Indian made up 18% of the Asian ethnic group.\n",
    "\n",
    "The survey data overrepresents these two groups as they are contributing 24% and 22% respectively. Moreover, Chinese and Asian Indian ethnic groups represent two peaks of the discriminatory experience in the data, where one reports the highest percentage of discrimination and the other show the lowest percentage in the city. The unintentional biases in the data will not accurately represent the discriminatory experience against other underrepresented groups."
   ]
  },
  {
   "cell_type": "code",
   "execution_count": 27,
   "metadata": {},
   "outputs": [
    {
     "data": {
      "image/png": "[encoded data removed]",
      "text/plain": [
       "<Figure size 432x288 with 1 Axes>"
      ]
     },
     "metadata": {
      "needs_background": "light"
     },
     "output_type": "display_data"
    }
   ],
   "source": [
    "ex = sns.barplot(x= 'Ethnicity', y ='% of total', data=(result_df.groupby(['Ethnicity']).size().sort_values(ascending=False)/result_df.shape[0]).reset_index().rename(columns={0:'% of total'}))\n"
   ]
  },
  {
   "cell_type": "markdown",
   "metadata": {},
   "source": [
    "## Research Question 3:\n",
    "#### Does the income class correlate with discriminatory experience in the City of Austin?"
   ]
  },
  {
   "cell_type": "markdown",
   "metadata": {},
   "source": [
    "#### Let's first remove any unreported income from the data."
   ]
  },
  {
   "cell_type": "code",
   "execution_count": 28,
   "metadata": {},
   "outputs": [],
   "source": [
    "result_ic_temp = result_df[(result_df['Income'].notnull()) & (result_df['Discrimination '].notnull())].rename(columns={'Discrimination ': 'Discrimination'})"
   ]
  },
  {
   "cell_type": "markdown",
   "metadata": {},
   "source": [
    "#### Then, let's aggregate the percentage of discriminatory experience by income level "
   ]
  },
  {
   "cell_type": "code",
   "execution_count": 29,
   "metadata": {},
   "outputs": [],
   "source": [
    "result_ic_df = result_ic_temp[['Income','Discrimination']].groupby(['Income']).agg({'Discrimination': 'mean'}).reset_index().rename(columns={'Discrimination': '% of Discrimination'})"
   ]
  },
  {
   "cell_type": "code",
   "execution_count": 30,
   "metadata": {},
   "outputs": [
    {
     "data": {
      "image/png": "[encoded data removed]",
      "text/plain": [
       "<Figure size 432x288 with 1 Axes>"
      ]
     },
     "metadata": {
      "needs_background": "light"
     },
     "output_type": "display_data"
    }
   ],
   "source": [
    "icx = sns.barplot(x= 'Income', y ='% of Discrimination', data=result_ic_df)\n",
    "plt.xticks(rotation=70)\n",
    "plt.savefig(\"Income_Level_vs_Discrimination.png\")"
   ]
  },
  {
   "cell_type": "markdown",
   "metadata": {},
   "source": [
    "#### To further validate our observation, we perform a regression analysis on the categorical variable, income level."
   ]
  },
  {
   "cell_type": "code",
   "execution_count": 31,
   "metadata": {},
   "outputs": [],
   "source": [
    "result_ic_cat = result_ic_temp[['Income','Discrimination']].sort_values(by='Discrimination',ascending=True)"
   ]
  },
  {
   "cell_type": "markdown",
   "metadata": {},
   "source": [
    "#### Encode categorical variables and run logistic regression. The result of the logit regression shows that P-value is less than .05. We reject the null hypothesis, meaning that the coefficient is significant. The coefficient indicates as we move away from the baseline, which is the income group of 0 to 9,999 dollars, we will expect the odds of discriminatory experience to increase by about 6%."
   ]
  },
  {
   "cell_type": "code",
   "execution_count": 32,
   "metadata": {},
   "outputs": [],
   "source": [
    "result_ic_cat['Income_cat'] = result_ic_cat['Income'].astype('category').cat.codes"
   ]
  },
  {
   "cell_type": "code",
   "execution_count": 33,
   "metadata": {},
   "outputs": [],
   "source": [
    "y, X = dmatrices('Discrimination ~ Income_cat', result_ic_cat, return_type = 'dataframe')"
   ]
  },
  {
   "cell_type": "code",
   "execution_count": 34,
   "metadata": {},
   "outputs": [
    {
     "name": "stdout",
     "output_type": "stream",
     "text": [
      "Optimization terminated successfully.\n",
      "         Current function value: 0.618831\n",
      "         Iterations 5\n"
     ]
    },
    {
     "name": "stderr",
     "output_type": "stream",
     "text": [
      "C:\\ProgramData\\Anaconda3\\lib\\site-packages\\numpy\\linalg\\linalg.py:1872: RuntimeWarning: invalid value encountered in greater\n",
      "  return count_nonzero(S > tol, axis=-1)\n"
     ]
    },
    {
     "data": {
      "text/plain": [
       "Intercept    -1.047177\n",
       "Income_cat    0.055805\n",
       "dtype: float64"
      ]
     },
     "execution_count": 34,
     "metadata": {},
     "output_type": "execute_result"
    }
   ],
   "source": [
    "logit = sm.Logit(y, X)\n",
    "logit.fit().params"
   ]
  },
  {
   "cell_type": "code",
   "execution_count": 35,
   "metadata": {},
   "outputs": [
    {
     "name": "stdout",
     "output_type": "stream",
     "text": [
      "Optimization terminated successfully.\n",
      "         Current function value: 0.618831\n",
      "         Iterations 5\n"
     ]
    },
    {
     "data": {
      "text/html": [
       "<table class=\"simpletable\">\n",
       "<caption>Logit Regression Results</caption>\n",
       "<tr>\n",
       "  <th>Dep. Variable:</th>    <td>Discrimination</td>  <th>  No. Observations:  </th>  <td>  2119</td> \n",
       "</tr>\n",
       "<tr>\n",
       "  <th>Model:</th>                 <td>Logit</td>      <th>  Df Residuals:      </th>  <td>  2119</td> \n",
       "</tr>\n",
       "<tr>\n",
       "  <th>Method:</th>                 <td>MLE</td>       <th>  Df Model:          </th>  <td>    -1</td> \n",
       "</tr>\n",
       "<tr>\n",
       "  <th>Date:</th>            <td>Sun, 13 Dec 2020</td> <th>  Pseudo R-squ.:     </th> <td>0.003519</td>\n",
       "</tr>\n",
       "<tr>\n",
       "  <th>Time:</th>                <td>14:19:42</td>     <th>  Log-Likelihood:    </th> <td> -1311.3</td>\n",
       "</tr>\n",
       "<tr>\n",
       "  <th>converged:</th>             <td>True</td>       <th>  LL-Null:           </th> <td> -1315.9</td>\n",
       "</tr>\n",
       "<tr>\n",
       "  <th>Covariance Type:</th>     <td>nonrobust</td>    <th>  LLR p-value:       </th>  <td>   nan</td> \n",
       "</tr>\n",
       "</table>\n",
       "<table class=\"simpletable\">\n",
       "<tr>\n",
       "       <td></td>         <th>coef</th>     <th>std err</th>      <th>z</th>      <th>P>|z|</th>  <th>[0.025</th>    <th>0.975]</th>  \n",
       "</tr>\n",
       "<tr>\n",
       "  <th>Intercept</th>  <td>   -1.0472</td> <td>    0.099</td> <td>  -10.606</td> <td> 0.000</td> <td>   -1.241</td> <td>   -0.854</td>\n",
       "</tr>\n",
       "<tr>\n",
       "  <th>Income_cat</th> <td>    0.0558</td> <td>    0.018</td> <td>    3.021</td> <td> 0.003</td> <td>    0.020</td> <td>    0.092</td>\n",
       "</tr>\n",
       "</table>"
      ],
      "text/plain": [
       "<class 'statsmodels.iolib.summary.Summary'>\n",
       "\"\"\"\n",
       "                           Logit Regression Results                           \n",
       "==============================================================================\n",
       "Dep. Variable:         Discrimination   No. Observations:                 2119\n",
       "Model:                          Logit   Df Residuals:                     2119\n",
       "Method:                           MLE   Df Model:                           -1\n",
       "Date:                Sun, 13 Dec 2020   Pseudo R-squ.:                0.003519\n",
       "Time:                        14:19:42   Log-Likelihood:                -1311.3\n",
       "converged:                       True   LL-Null:                       -1315.9\n",
       "Covariance Type:            nonrobust   LLR p-value:                       nan\n",
       "==============================================================================\n",
       "                 coef    std err          z      P>|z|      [0.025      0.975]\n",
       "------------------------------------------------------------------------------\n",
       "Intercept     -1.0472      0.099    -10.606      0.000      -1.241      -0.854\n",
       "Income_cat     0.0558      0.018      3.021      0.003       0.020       0.092\n",
       "==============================================================================\n",
       "\"\"\""
      ]
     },
     "execution_count": 35,
     "metadata": {},
     "output_type": "execute_result"
    }
   ],
   "source": [
    "logit.fit().summary()"
   ]
  },
  {
   "cell_type": "code",
   "execution_count": 36,
   "metadata": {},
   "outputs": [
    {
     "name": "stdout",
     "output_type": "stream",
     "text": [
      "The odd ratio as we move away from the baseline group:  0.057386185350407626\n"
     ]
    }
   ],
   "source": [
    "print('The odd ratio as we move away from the baseline group: ', np.exp(0.0558)-1)"
   ]
  },
  {
   "cell_type": "markdown",
   "metadata": {},
   "source": [
    "### Discussion/Implications:\n",
    "Before the research, we expect the income class may have a negative relationship with discriminatory experience in the Asian ethnic group. The result, however, disproves our assumption. The descriptive analysis and the statistical inference for logistic regression suggest that the income class has a positive relationship with the prior experience of racial discrimination, meaning that as the income level increases, we will expect the discriminatory experience raises as well. The phenomenon indicates that even the middle class of immigrant Asian Americans still have to handle numerous personal experiences of unfair treatment across many areas of life and workspace such as ethnic slurs and offensive comments, pay or compensation inequality, promotion discrimination, and unjustified firings. "
   ]
  },
  {
   "cell_type": "markdown",
   "metadata": {},
   "source": [
    "### Limitations:\n",
    "The survey data shows a negatively-skewed distribution of participants' income levels. We can observe more than 40% of the respondents earn more than 70,000 in income in the City of Austin compared with 8% from the rest of the groups. The overrepresentation of the specific income level creates repercussions. The insidious outcome includes inaccurately measuring the overall quality of life experience of the residents as well as performing unreliable predictions of various metrics for lower-income students and lower-class families since the bias data causes the analysis to lose its objectivity in the first place. The survey researchers must reconsider data sampling techniques, in which income groups are over or underrepresented in the survey data.\n"
   ]
  },
  {
   "cell_type": "code",
   "execution_count": 37,
   "metadata": {},
   "outputs": [],
   "source": [
    "result_ic_agg_df = result_ic_temp[['Income','Discrimination']].groupby(['Income']).agg({'Discrimination': 'count'}).reset_index().rename(columns={'Discrimination': 'records'})"
   ]
  },
  {
   "cell_type": "code",
   "execution_count": 38,
   "metadata": {},
   "outputs": [
    {
     "data": {
      "text/html": [
       "<div>\n",
       "<style scoped>\n",
       "    .dataframe tbody tr th:only-of-type {\n",
       "        vertical-align: middle;\n",
       "    }\n",
       "\n",
       "    .dataframe tbody tr th {\n",
       "        vertical-align: top;\n",
       "    }\n",
       "\n",
       "    .dataframe thead th {\n",
       "        text-align: right;\n",
       "    }\n",
       "</style>\n",
       "<table border=\"1\" class=\"dataframe\">\n",
       "  <thead>\n",
       "    <tr style=\"text-align: right;\">\n",
       "      <th></th>\n",
       "      <th>Income</th>\n",
       "      <th>records</th>\n",
       "      <th>% of Records</th>\n",
       "    </tr>\n",
       "  </thead>\n",
       "  <tbody>\n",
       "    <tr>\n",
       "      <th>0</th>\n",
       "      <td>$0 - $9,999</td>\n",
       "      <td>228</td>\n",
       "      <td>0.107598</td>\n",
       "    </tr>\n",
       "    <tr>\n",
       "      <th>1</th>\n",
       "      <td>$10,000 - $19,999</td>\n",
       "      <td>177</td>\n",
       "      <td>0.083530</td>\n",
       "    </tr>\n",
       "    <tr>\n",
       "      <th>2</th>\n",
       "      <td>$20,000 - $29,999</td>\n",
       "      <td>166</td>\n",
       "      <td>0.078339</td>\n",
       "    </tr>\n",
       "    <tr>\n",
       "      <th>3</th>\n",
       "      <td>$30,000 - $39,999</td>\n",
       "      <td>178</td>\n",
       "      <td>0.084002</td>\n",
       "    </tr>\n",
       "    <tr>\n",
       "      <th>4</th>\n",
       "      <td>$40,000 - $49,999</td>\n",
       "      <td>164</td>\n",
       "      <td>0.077395</td>\n",
       "    </tr>\n",
       "    <tr>\n",
       "      <th>5</th>\n",
       "      <td>$50,000 - $59,999</td>\n",
       "      <td>163</td>\n",
       "      <td>0.076923</td>\n",
       "    </tr>\n",
       "    <tr>\n",
       "      <th>6</th>\n",
       "      <td>$60,000 - $69,999</td>\n",
       "      <td>158</td>\n",
       "      <td>0.074563</td>\n",
       "    </tr>\n",
       "    <tr>\n",
       "      <th>7</th>\n",
       "      <td>$70,000 and over</td>\n",
       "      <td>885</td>\n",
       "      <td>0.417650</td>\n",
       "    </tr>\n",
       "  </tbody>\n",
       "</table>\n",
       "</div>"
      ],
      "text/plain": [
       "              Income  records  % of Records\n",
       "0        $0 - $9,999      228      0.107598\n",
       "1  $10,000 - $19,999      177      0.083530\n",
       "2  $20,000 - $29,999      166      0.078339\n",
       "3  $30,000 - $39,999      178      0.084002\n",
       "4  $40,000 - $49,999      164      0.077395\n",
       "5  $50,000 - $59,999      163      0.076923\n",
       "6  $60,000 - $69,999      158      0.074563\n",
       "7   $70,000 and over      885      0.417650"
      ]
     },
     "execution_count": 38,
     "metadata": {},
     "output_type": "execute_result"
    }
   ],
   "source": [
    "result_ic_agg_df['% of Records'] = result_ic_agg_df['records']/result_ic_agg_df['records'].sum()\n",
    "result_ic_agg_df"
   ]
  },
  {
   "cell_type": "code",
   "execution_count": 39,
   "metadata": {},
   "outputs": [
    {
     "data": {
      "text/plain": [
       "(array([0, 1, 2, 3, 4, 5, 6, 7]), <a list of 8 Text xticklabel objects>)"
      ]
     },
     "execution_count": 39,
     "metadata": {},
     "output_type": "execute_result"
    },
    {
     "data": {
      "image/png": "[encoded data removed]",
      "text/plain": [
       "<Figure size 432x288 with 1 Axes>"
      ]
     },
     "metadata": {
      "needs_background": "light"
     },
     "output_type": "display_data"
    }
   ],
   "source": [
    "icx = sns.barplot(x= 'Income', y ='records', data=result_ic_agg_df)\n",
    "plt.xticks(rotation=70)"
   ]
  },
  {
   "cell_type": "markdown",
   "metadata": {},
   "source": [
    "### Conclusion "
   ]
  },
  {
   "cell_type": "markdown",
   "metadata": {},
   "source": [
    "As being the fastest-growing racial group in the United States, immigrant Asian Americans still face racism across many areas of life. The research analyzes the survey data conducted by the City of Austin, which collects data from 2600 participants to understand the impact of racism on their life experience in the United States and the basis of a personal characteristic that possibly causes the group treated unfairly. We formulated three research questions in the project and performed a mix of descriptive and regression analysis to summarize the characteristics of the data and understand the relationship between predictor variables and the response.\n",
    "\n",
    "The key finding from our first research question suggests that the respondent's prior experience in racial discrimination does not have a statistically significant relationship with quality of life in the City of Texas. The result implies that the state governments and non-profit organizations offer accessible personal and professional resources, enabling victims of racism to seek free legal information and court forms for civil legal problems immediately. Despite government efforts to ensure equal treatment in society, racism still takes place against the Asian ethnic group. In our second and third research questions, we dive deeper into demographic data regarding age, gender, and marital status to recognize the key characteristics resulting in unfair treatment.\n",
    "\n",
    "The results from other research questions show that regardless of English speaking ability, a high percentage of individuals from the Asian immigration group still report being discriminated against in any way, implying that they are treated differently based on their physical appearance and linguistic bias because of the unique use of language and characteristics of speech. The middle-class immigrant Asian Americans do not experience less racism. The outcome of the logistic regression indicates that the odds ratio of discriminatory experience tends to increase by 6% for every 1000 increase in income, suggesting that unfair treatment still across many areas of workspace such as compensation inequality, promotion discrimination, and unjustified firings.\n",
    "\n",
    "Few limitations were identified throughout the exploratory analysis. The sampling technique raises the concern about bias in the data. For instance, the survey data is dominated by married participants whose percentage of discriminatory experience is much lower than an unmarried person. The overrepresentation of Chinese and Asian Indian ethnic groups will result in inaccurately represent the discriminatory experience against underrepresented groups. Furthermore, the survey collects more than 40% of responses from the respondents earning more than 70,000 in income in the City of Austin, imposing consequences for performing unreliable predictions of various metrics for lower-income students and lower-class families. The survey researchers must reexamine their data-collection process, overcoming biases in underrepresented groups.\n",
    "\n",
    " \n"
   ]
  },
  {
   "cell_type": "code",
   "execution_count": null,
   "metadata": {},
   "outputs": [],
   "source": []
  },
  {
   "cell_type": "code",
   "execution_count": null,
   "metadata": {},
   "outputs": [],
   "source": []
  },
  {
   "cell_type": "code",
   "execution_count": null,
   "metadata": {},
   "outputs": [],
   "source": []
  },
  {
   "cell_type": "markdown",
   "metadata": {},
   "source": [
    "# References:"
   ]
  },
  {
   "cell_type": "markdown",
   "metadata": {},
   "source": [
    "[1]Gee GC, Spencer M, Chen J, Yip T, Takeuchi DT. The association between self-reported discrimination and 12-month DSM-IV mental disorders among Asian Americans nationwide. Social Science & Medicine. 2007b;64:1984–1996. Retrieved from https://www.researchgate.net/publication/227914163_Strangers_Still_The_Experience_of_Discrimination_Among_Chinese_Americans\n",
    "\n",
    "[2]Yoo HC, Lee RM. Ethnic identity and approach-type coping as moderators of the racial discrimination/well-being relation in Asian Americans. Journal of Counseling Psychology. 2005;52:497–506. Retrieved from https://psycnet.apa.org/record/2005-13343-006\n",
    "\n",
    "[3] The City of Austin. Top Ten Demographic Trends in Austin, Texas. Retrieved from https://www.austintexas.gov/page/top-ten-demographic-trends-austin-texas; https://www.austintexas.gov/sites/default/files/files/Planning/asians_by_origin.pdf\n",
    "\n",
    "[4] Pew Research Centery. Key facts about Asian Americans, a diverse and growing population. Retrieved from https://www.pewresearch.org/fact-tank/2020/05/07/asian-americans-are-the-fastest-growing-racial-or-ethnic-group-in-the-u-s-electorate/"
   ]
  },
  {
   "cell_type": "code",
   "execution_count": null,
   "metadata": {},
   "outputs": [],
   "source": []
  }
 ],
 "metadata": {
  "kernelspec": {
   "display_name": "Python 3",
   "language": "python",
   "name": "python3"
  },
  "language_info": {
   "codemirror_mode": {
    "name": "ipython",
    "version": 3
   },
   "file_extension": ".py",
   "mimetype": "text/x-python",
   "name": "python",
   "nbconvert_exporter": "python",
   "pygments_lexer": "ipython3",
   "version": "3.7.3"
  }
 },
 "nbformat": 4,
 "nbformat_minor": 2
}
